{
 "cells": [
  {
   "cell_type": "code",
   "execution_count": 47,
   "metadata": {},
   "outputs": [],
   "source": [
    "import pandas as pd\n",
    "from numpy.random import normal, binomial, seed\n",
    "import random\n",
    "import warnings\n",
    "\n",
    "warnings.simplefilter(action=\"ignore\", category=FutureWarning)\n",
    "\n",
    "seed(42)\n",
    "random.seed(42)  # set seed for reproducibility"
   ]
  },
  {
   "cell_type": "code",
   "execution_count": 48,
   "metadata": {},
   "outputs": [],
   "source": [
    "columns = [\"case_id\", \"activity\", \"event_order\", \"exchange_rate\"]\n",
    "event_logs = pd.DataFrame(columns=columns)"
   ]
  },
  {
   "cell_type": "code",
   "execution_count": 49,
   "metadata": {},
   "outputs": [
    {
     "name": "stdout",
     "output_type": "stream",
     "text": [
      "example row: \n",
      "    case_id  activity  event_order exchange_rate\n",
      "0        1  Check-in            1          None\n",
      "\n",
      "--------------------------------------------\n",
      "\n",
      "example row: \n",
      "    case_id activity  event_order exchange_rate\n",
      "0        1     Pays            3          None\n",
      "\n",
      "--------------------------------------------\n",
      "\n",
      "example row for Check exchange rate: \n",
      "    case_id             activity  event_order  exchange_rate\n",
      "0        1  Check exchange rate            3           1.05\n",
      "\n",
      "--------------------------------------------\n",
      "\n"
     ]
    }
   ],
   "source": [
    "def generate_activity(case_id: int, name: str, event_order=1) -> pd.DataFrame:\n",
    "    \"\"\"\n",
    "    Generates an event log for the \"Check-in\"-activity.\n",
    "    \"\"\"\n",
    "    return pd.DataFrame(\n",
    "        {\n",
    "            \"case_id\": [case_id],\n",
    "            \"activity\": [name],\n",
    "            \"event_order\": [event_order],\n",
    "            \"exchange_rate\": [None],\n",
    "        }\n",
    "    )\n",
    "\n",
    "\n",
    "print(\"example row: \\n\", generate_activity(1, \"Check-in\"))  # check whether it works\n",
    "print(\"\\n--------------------------------------------\\n\")\n",
    "print(\"example row: \\n\", generate_activity(1, \"Pays\", 3))  # check whether it works\n",
    "print(\"\\n--------------------------------------------\\n\")\n",
    "\n",
    "\n",
    "def generate_exchange_rate(case_id: int, event_order: int) -> pd.DataFrame:\n",
    "    \"\"\"\n",
    "    Generates an event log for the \"Check exchange rate\"-activity.\n",
    "    Retrieved exchange rates are sampled from normal distribution w/ mean 1 std 0.1\n",
    "    \"\"\"\n",
    "    rate = round(normal(1, 0.1), 2)\n",
    "    return pd.DataFrame(\n",
    "        {\n",
    "            \"case_id\": [case_id],\n",
    "            \"activity\": [\"Check exchange rate\"],\n",
    "            \"event_order\": [event_order],\n",
    "            \"exchange_rate\": [rate],\n",
    "        }\n",
    "    )\n",
    "\n",
    "\n",
    "print(\n",
    "    \"example row for Check exchange rate: \\n\", generate_exchange_rate(1, 3)\n",
    ")  # check whether it works\n",
    "print(\"\\n--------------------------------------------\\n\")"
   ]
  },
  {
   "cell_type": "code",
   "execution_count": 50,
   "metadata": {},
   "outputs": [
    {
     "name": "stdout",
     "output_type": "stream",
     "text": [
      "example process instance: \n",
      "    case_id             activity  event_order exchange_rate\n",
      "0        1             Check-in            1          None\n",
      "0        1  Check exchange rate            2          0.99\n",
      "0        1  Check exchange rate            3          1.06\n",
      "0        1  Check exchange rate            4          1.15\n",
      "0        1  Check exchange rate            5          0.98\n",
      "0        1  Check exchange rate            6          0.98\n",
      "0        1  Check exchange rate            7          1.16\n",
      "0        1  Check exchange rate            8          1.08\n",
      "0        1  Check exchange rate            9          0.95\n",
      "0        1  Check exchange rate           10          1.05\n",
      "0        1  Check exchange rate           11          0.95\n",
      "0        1  Check exchange rate           12          0.95\n",
      "0        1         Pays by card           13          None\n"
     ]
    }
   ],
   "source": [
    "def generate_case(case_id: int, is_final=True) -> pd.DataFrame:\n",
    "    \"\"\"\n",
    "    this function combines the different generators from above to create an artifical process instance.\n",
    "    \"\"\"\n",
    "    event_order = 1\n",
    "    case = generate_activity(case_id, \"Check-in\", event_order)\n",
    "    event_order += 1\n",
    "    ##### removed this block as algorithm cannot handle non-timeseries samples\n",
    "    # # randomly decide whether guest has enough cash\n",
    "    # if random.uniform(0, 1) > 0.9:\n",
    "    #     payment = generate_activity(case_id, \"Pays\", event_order)\n",
    "    #     case = pd.concat([case, payment])\n",
    "    #     return case\n",
    "\n",
    "    exchange_rate = generate_exchange_rate(case_id, 2)\n",
    "    case = pd.concat([case, exchange_rate])\n",
    "    event_order += 1\n",
    "\n",
    "    for i in range(0, 10):\n",
    "        exchange_rate = generate_exchange_rate(case_id, event_order)\n",
    "        case = pd.concat([case, exchange_rate])\n",
    "        event_order += 1\n",
    "\n",
    "    if is_final:\n",
    "        # idea:\n",
    "        # sample from binomial distribution in a way, so that higher exchange rates increase the success probability\n",
    "        # to achieve this, set success probabilty of binomial distribution to last exchange rate - mean(exchange rate) + 0.5\n",
    "        success_probability = 1 if exchange_rate.loc[0, \"exchange_rate\"] > 1 else 0\n",
    "    else:\n",
    "        success = (\n",
    "            True\n",
    "            if case[case[\"activity\"] == \"Check exchange rate\"][\"exchange_rate\"].mean()\n",
    "            > 1\n",
    "            else False\n",
    "        )\n",
    "        success_probability = 0.9 if success else 0\n",
    "\n",
    "    does_exchange = binomial(1, success_probability)\n",
    "    # if the guest does exchange, add the follow-up activities and end the process.\n",
    "    # else continue\n",
    "    if does_exchange:\n",
    "        result = generate_activity(case_id, \"Pays cash\", event_order)\n",
    "    else:\n",
    "        result = generate_activity(case_id, \"Pays by card\", event_order)\n",
    "    event_order += 1\n",
    "\n",
    "    return pd.concat([case, result])\n",
    "\n",
    "\n",
    "print(\"example process instance: \\n\", generate_case(1))"
   ]
  },
  {
   "cell_type": "code",
   "execution_count": 51,
   "metadata": {},
   "outputs": [
    {
     "name": "stdout",
     "output_type": "stream",
     "text": [
      "Number of generated rows:  1287\n"
     ]
    },
    {
     "data": {
      "text/html": [
       "<div>\n",
       "<style scoped>\n",
       "    .dataframe tbody tr th:only-of-type {\n",
       "        vertical-align: middle;\n",
       "    }\n",
       "\n",
       "    .dataframe tbody tr th {\n",
       "        vertical-align: top;\n",
       "    }\n",
       "\n",
       "    .dataframe thead th {\n",
       "        text-align: right;\n",
       "    }\n",
       "</style>\n",
       "<table border=\"1\" class=\"dataframe\">\n",
       "  <thead>\n",
       "    <tr style=\"text-align: right;\">\n",
       "      <th></th>\n",
       "      <th>case_id</th>\n",
       "      <th>activity</th>\n",
       "      <th>event_order</th>\n",
       "      <th>exchange_rate</th>\n",
       "    </tr>\n",
       "  </thead>\n",
       "  <tbody>\n",
       "    <tr>\n",
       "      <th>0</th>\n",
       "      <td>1</td>\n",
       "      <td>Check-in</td>\n",
       "      <td>1</td>\n",
       "      <td>None</td>\n",
       "    </tr>\n",
       "    <tr>\n",
       "      <th>0</th>\n",
       "      <td>1</td>\n",
       "      <td>Check exchange rate</td>\n",
       "      <td>2</td>\n",
       "      <td>0.74</td>\n",
       "    </tr>\n",
       "    <tr>\n",
       "      <th>0</th>\n",
       "      <td>1</td>\n",
       "      <td>Check exchange rate</td>\n",
       "      <td>3</td>\n",
       "      <td>1.10</td>\n",
       "    </tr>\n",
       "    <tr>\n",
       "      <th>0</th>\n",
       "      <td>1</td>\n",
       "      <td>Check exchange rate</td>\n",
       "      <td>4</td>\n",
       "      <td>1.08</td>\n",
       "    </tr>\n",
       "    <tr>\n",
       "      <th>0</th>\n",
       "      <td>1</td>\n",
       "      <td>Check exchange rate</td>\n",
       "      <td>5</td>\n",
       "      <td>0.85</td>\n",
       "    </tr>\n",
       "  </tbody>\n",
       "</table>\n",
       "</div>"
      ],
      "text/plain": [
       "   case_id             activity  event_order exchange_rate\n",
       "0        1             Check-in            1          None\n",
       "0        1  Check exchange rate            2          0.74\n",
       "0        1  Check exchange rate            3          1.10\n",
       "0        1  Check exchange rate            4          1.08\n",
       "0        1  Check exchange rate            5          0.85"
      ]
     },
     "metadata": {},
     "output_type": "display_data"
    },
    {
     "data": {
      "text/html": [
       "<div>\n",
       "<style scoped>\n",
       "    .dataframe tbody tr th:only-of-type {\n",
       "        vertical-align: middle;\n",
       "    }\n",
       "\n",
       "    .dataframe tbody tr th {\n",
       "        vertical-align: top;\n",
       "    }\n",
       "\n",
       "    .dataframe thead th {\n",
       "        text-align: right;\n",
       "    }\n",
       "</style>\n",
       "<table border=\"1\" class=\"dataframe\">\n",
       "  <thead>\n",
       "    <tr style=\"text-align: right;\">\n",
       "      <th></th>\n",
       "      <th>case_id</th>\n",
       "      <th>activity</th>\n",
       "      <th>event_order</th>\n",
       "      <th>exchange_rate</th>\n",
       "    </tr>\n",
       "  </thead>\n",
       "  <tbody>\n",
       "    <tr>\n",
       "      <th>0</th>\n",
       "      <td>99</td>\n",
       "      <td>Check exchange rate</td>\n",
       "      <td>9</td>\n",
       "      <td>1.04</td>\n",
       "    </tr>\n",
       "    <tr>\n",
       "      <th>0</th>\n",
       "      <td>99</td>\n",
       "      <td>Check exchange rate</td>\n",
       "      <td>10</td>\n",
       "      <td>0.97</td>\n",
       "    </tr>\n",
       "    <tr>\n",
       "      <th>0</th>\n",
       "      <td>99</td>\n",
       "      <td>Check exchange rate</td>\n",
       "      <td>11</td>\n",
       "      <td>1.04</td>\n",
       "    </tr>\n",
       "    <tr>\n",
       "      <th>0</th>\n",
       "      <td>99</td>\n",
       "      <td>Check exchange rate</td>\n",
       "      <td>12</td>\n",
       "      <td>1.05</td>\n",
       "    </tr>\n",
       "    <tr>\n",
       "      <th>0</th>\n",
       "      <td>99</td>\n",
       "      <td>Pays cash</td>\n",
       "      <td>13</td>\n",
       "      <td>None</td>\n",
       "    </tr>\n",
       "  </tbody>\n",
       "</table>\n",
       "</div>"
      ],
      "text/plain": [
       "   case_id             activity  event_order exchange_rate\n",
       "0       99  Check exchange rate            9          1.04\n",
       "0       99  Check exchange rate           10          0.97\n",
       "0       99  Check exchange rate           11          1.04\n",
       "0       99  Check exchange rate           12          1.05\n",
       "0       99            Pays cash           13          None"
      ]
     },
     "metadata": {},
     "output_type": "display_data"
    }
   ],
   "source": [
    "# check whether our data generation works in principle\n",
    "\n",
    "data = pd.DataFrame()\n",
    "for case_id in range(1, 100):\n",
    "    data = pd.concat([data, generate_case(case_id)])\n",
    "\n",
    "print(\"Number of generated rows: \", len(data))\n",
    "display(data.head(5))\n",
    "display(data.tail(5))"
   ]
  },
  {
   "cell_type": "code",
   "execution_count": 52,
   "metadata": {},
   "outputs": [],
   "source": [
    "# generate the whole dataset (takes a bit longer)\n",
    "\n",
    "data = pd.DataFrame()\n",
    "\n",
    "for case_id in range(1, 10000):\n",
    "    data = pd.concat([data, generate_case(case_id)])\n",
    "\n",
    "data.to_csv(\"edt-ts/data/group5_checkin.csv\", index=False)"
   ]
  },
  {
   "cell_type": "code",
   "execution_count": 53,
   "metadata": {},
   "outputs": [],
   "source": [
    "# generate the whole random dataset (takes a bit longer)\n",
    "\n",
    "data = pd.DataFrame()\n",
    "\n",
    "for case_id in range(1, 10000):\n",
    "    data = pd.concat([data, generate_case(case_id, is_final=False)])\n",
    "\n",
    "data.to_csv(\"edt-ts/data/group5_checkin_random.csv\", index=False)"
   ]
  },
  {
   "cell_type": "code",
   "execution_count": 54,
   "metadata": {},
   "outputs": [
    {
     "name": "stdout",
     "output_type": "stream",
     "text": [
      "Number of instances where guest payed immediately:  0\n",
      "Number of instances where guest had to exchange money:  9999\n"
     ]
    }
   ],
   "source": [
    "print(\n",
    "    \"Number of instances where guest payed immediately: \",\n",
    "    len(data[(data[\"activity\"] == \"Pays\") & (data[\"event_order\"] == 2)]),\n",
    ")\n",
    "print(\n",
    "    \"Number of instances where guest had to exchange money: \",\n",
    "    len(data[(data[\"activity\"] == \"Check exchange rate\") & (data[\"event_order\"] == 2)]),\n",
    ")"
   ]
  },
  {
   "cell_type": "code",
   "execution_count": 55,
   "metadata": {},
   "outputs": [
    {
     "data": {
      "image/png": "[encoded data removed]",
      "text/plain": [
       "<Figure size 640x480 with 1 Axes>"
      ]
     },
     "metadata": {},
     "output_type": "display_data"
    }
   ],
   "source": [
    "import seaborn as sns\n",
    "import matplotlib.pyplot as plt\n",
    "\n",
    "\n",
    "sns.histplot(data[data[\"activity\"] == \"Check exchange rate\"][\"exchange_rate\"])\n",
    "plt.axvline(\n",
    "    data[data[\"activity\"] == \"Check exchange rate\"][\"exchange_rate\"].mean(),\n",
    "    linestyle=\"--\",\n",
    "    c=\"red\",\n",
    "    label=\"mean\",\n",
    ")\n",
    "plt.legend()\n",
    "plt.suptitle(\"Distribution of exchange rates \")\n",
    "plt.xlabel(\"Exchange rate\")\n",
    "plt.show()"
   ]
  }
 ],
 "metadata": {
  "kernelspec": {
   "display_name": "Python 3",
   "language": "python",
   "name": "python3"
  },
  "language_info": {
   "codemirror_mode": {
    "name": "ipython",
    "version": 3
   },
   "file_extension": ".py",
   "mimetype": "text/x-python",
   "name": "python",
   "nbconvert_exporter": "python",
   "pygments_lexer": "ipython3",
   "version": "3.9.6"
  }
 },
 "nbformat": 4,
 "nbformat_minor": 2
}
